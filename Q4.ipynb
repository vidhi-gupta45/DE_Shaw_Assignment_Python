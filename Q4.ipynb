{
 "cells": [
  {
   "cell_type": "code",
   "execution_count": 1,
   "id": "520d4f36-38e7-420e-8d5d-0259acba6cea",
   "metadata": {},
   "outputs": [
    {
     "name": "stdout",
     "output_type": "stream",
     "text": [
      "Computing 1 + 2...\n",
      "3\n",
      "3\n",
      "Computing 3 + 4...\n",
      "7\n"
     ]
    }
   ],
   "source": [
    "import functools\n",
    "\n",
    "def cache_function(func):\n",
    "    \"\"\"\n",
    "    A decorator to cache the results of a function for given arguments.\n",
    "    \"\"\"\n",
    "    cache = {}\n",
    "\n",
    "    @functools.wraps(func)\n",
    "    def wrapper(*args, **kwargs):\n",
    "        #  a unique key using the arguments\n",
    "        key = (args, frozenset(kwargs.items()))\n",
    "        if key not in cache:\n",
    "            # Compute the result and store it in the cache\n",
    "            cache[key] = func(*args, **kwargs)\n",
    "        return cache[key]\n",
    "    \n",
    "    return wrapper\n",
    "\n",
    "# Example usage:\n",
    "@cache_function\n",
    "def expensive_function(x, y):\n",
    "    print(f\"Computing {x} + {y}...\")\n",
    "    return x + y\n",
    "\n",
    "# Test the caching\n",
    "print(expensive_function(1, 2))  # Computes and caches the result\n",
    "print(expensive_function(1, 2))  # Returns the cached result\n",
    "print(expensive_function(3, 4))  # Computes and caches the result\n"
   ]
  },
  {
   "cell_type": "code",
   "execution_count": null,
   "id": "a8890fab-6ef4-43c4-847e-2f5285ed62b4",
   "metadata": {},
   "outputs": [],
   "source": []
  }
 ],
 "metadata": {
  "kernelspec": {
   "display_name": "Python 3 (ipykernel)",
   "language": "python",
   "name": "python3"
  },
  "language_info": {
   "codemirror_mode": {
    "name": "ipython",
    "version": 3
   },
   "file_extension": ".py",
   "mimetype": "text/x-python",
   "name": "python",
   "nbconvert_exporter": "python",
   "pygments_lexer": "ipython3",
   "version": "3.12.2"
  }
 },
 "nbformat": 4,
 "nbformat_minor": 5
}
